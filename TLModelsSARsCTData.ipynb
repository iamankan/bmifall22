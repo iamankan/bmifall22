{
 "cells": [
  {
   "cell_type": "code",
   "execution_count": 1,
   "id": "ba5ce71f",
   "metadata": {},
   "outputs": [],
   "source": [
    "import tensorflow as tf\n",
    "from pathlib import Path\n",
    "from tensorflow import keras\n",
    "from keras.preprocessing.image import ImageDataGenerator"
   ]
  },
  {
   "cell_type": "code",
   "execution_count": 2,
   "id": "e764d9e6",
   "metadata": {},
   "outputs": [
    {
     "name": "stdout",
     "output_type": "stream",
     "text": [
      "Num GPUs Available:  1\n"
     ]
    }
   ],
   "source": [
    "print(\"Num GPUs Available: \", len(tf.config.list_physical_devices('GPU')))"
   ]
  },
  {
   "cell_type": "code",
   "execution_count": 3,
   "id": "bb7772fb",
   "metadata": {},
   "outputs": [],
   "source": [
    "fdata = f'../../data/sars-cov2-ct-scan'\n",
    "\n",
    "p = Path(fdata)\n",
    "ptrain = p / 'train'\n",
    "ptest = p / 'test'\n",
    "pval = p / 'val'"
   ]
  },
  {
   "cell_type": "code",
   "execution_count": 4,
   "id": "886e63ba",
   "metadata": {},
   "outputs": [],
   "source": [
    "BATCH_SIZE = 10\n",
    "\n",
    "w, h = (224, 224)\n",
    "\n",
    "train_generator = ImageDataGenerator()\n",
    "\n",
    "val_generator = ImageDataGenerator()\n",
    "\n",
    "test_generator = ImageDataGenerator()"
   ]
  },
  {
   "cell_type": "code",
   "execution_count": 5,
   "id": "72ae9200",
   "metadata": {},
   "outputs": [
    {
     "name": "stdout",
     "output_type": "stream",
     "text": [
      "Found 1788 images belonging to 2 classes.\n",
      "Found 198 images belonging to 2 classes.\n",
      "Found 495 images belonging to 2 classes.\n"
     ]
    }
   ],
   "source": [
    "traingen = train_generator.flow_from_directory(ptrain,\n",
    "                                               target_size=(w, h),\n",
    "                                               class_mode='binary',\n",
    "                                               batch_size=BATCH_SIZE, \n",
    "                                               shuffle=True,\n",
    "                                               seed=42)\n",
    "\n",
    "validgen = val_generator.flow_from_directory(pval,\n",
    "                                               target_size=(w, h),\n",
    "                                               class_mode='binary',\n",
    "                                               batch_size=BATCH_SIZE,\n",
    "                                               shuffle=True,\n",
    "                                               seed=42)\n",
    "\n",
    "testgen = test_generator.flow_from_directory(ptest,\n",
    "                                             target_size=(w, h),\n",
    "                                             class_mode='binary',\n",
    "                                             batch_size=1,\n",
    "                                             shuffle=False,\n",
    "                                             seed=42)"
   ]
  },
  {
   "cell_type": "code",
   "execution_count": 6,
   "id": "281854fb",
   "metadata": {},
   "outputs": [
    {
     "data": {
      "text/plain": [
       "array([0, 0, 0, ..., 1, 1, 1])"
      ]
     },
     "execution_count": 6,
     "metadata": {},
     "output_type": "execute_result"
    }
   ],
   "source": [
    "traingen.classes"
   ]
  },
  {
   "cell_type": "code",
   "execution_count": 7,
   "id": "76074b99",
   "metadata": {},
   "outputs": [
    {
     "data": {
      "text/plain": [
       "0"
      ]
     },
     "execution_count": 7,
     "metadata": {},
     "output_type": "execute_result"
    }
   ],
   "source": [
    "traingen.batch_index"
   ]
  },
  {
   "cell_type": "code",
   "execution_count": 8,
   "id": "d4fd6979",
   "metadata": {},
   "outputs": [],
   "source": [
    "base_model = keras.applications.VGG16(\n",
    "    weights='imagenet',  # Load weights pre-trained on ImageNet.\n",
    "    input_shape=(w, h, 3),\n",
    "    include_top=False)"
   ]
  },
  {
   "cell_type": "code",
   "execution_count": 9,
   "id": "a0047d78",
   "metadata": {},
   "outputs": [
    {
     "name": "stdout",
     "output_type": "stream",
     "text": [
      "Model: \"vgg16\"\n",
      "_________________________________________________________________\n",
      " Layer (type)                Output Shape              Param #   \n",
      "=================================================================\n",
      " input_1 (InputLayer)        [(None, 224, 224, 3)]     0         \n",
      "                                                                 \n",
      " block1_conv1 (Conv2D)       (None, 224, 224, 64)      1792      \n",
      "                                                                 \n",
      " block1_conv2 (Conv2D)       (None, 224, 224, 64)      36928     \n",
      "                                                                 \n",
      " block1_pool (MaxPooling2D)  (None, 112, 112, 64)      0         \n",
      "                                                                 \n",
      " block2_conv1 (Conv2D)       (None, 112, 112, 128)     73856     \n",
      "                                                                 \n",
      " block2_conv2 (Conv2D)       (None, 112, 112, 128)     147584    \n",
      "                                                                 \n",
      " block2_pool (MaxPooling2D)  (None, 56, 56, 128)       0         \n",
      "                                                                 \n",
      " block3_conv1 (Conv2D)       (None, 56, 56, 256)       295168    \n",
      "                                                                 \n",
      " block3_conv2 (Conv2D)       (None, 56, 56, 256)       590080    \n",
      "                                                                 \n",
      " block3_conv3 (Conv2D)       (None, 56, 56, 256)       590080    \n",
      "                                                                 \n",
      " block3_pool (MaxPooling2D)  (None, 28, 28, 256)       0         \n",
      "                                                                 \n",
      " block4_conv1 (Conv2D)       (None, 28, 28, 512)       1180160   \n",
      "                                                                 \n",
      " block4_conv2 (Conv2D)       (None, 28, 28, 512)       2359808   \n",
      "                                                                 \n",
      " block4_conv3 (Conv2D)       (None, 28, 28, 512)       2359808   \n",
      "                                                                 \n",
      " block4_pool (MaxPooling2D)  (None, 14, 14, 512)       0         \n",
      "                                                                 \n",
      " block5_conv1 (Conv2D)       (None, 14, 14, 512)       2359808   \n",
      "                                                                 \n",
      " block5_conv2 (Conv2D)       (None, 14, 14, 512)       2359808   \n",
      "                                                                 \n",
      " block5_conv3 (Conv2D)       (None, 14, 14, 512)       2359808   \n",
      "                                                                 \n",
      " block5_pool (MaxPooling2D)  (None, 7, 7, 512)         0         \n",
      "                                                                 \n",
      "=================================================================\n",
      "Total params: 14,714,688\n",
      "Trainable params: 14,714,688\n",
      "Non-trainable params: 0\n",
      "_________________________________________________________________\n"
     ]
    }
   ],
   "source": [
    "base_model.summary()"
   ]
  },
  {
   "cell_type": "code",
   "execution_count": 15,
   "id": "c305de65",
   "metadata": {},
   "outputs": [],
   "source": [
    "#Freeze the base model\n",
    "base_model.trainable = False\n",
    "for layer in base_model.layers[:-3]:\n",
    "    layer.trainable = True"
   ]
  },
  {
   "cell_type": "code",
   "execution_count": 16,
   "id": "77eae416",
   "metadata": {},
   "outputs": [
    {
     "name": "stdout",
     "output_type": "stream",
     "text": [
      "True\n",
      "True\n",
      "True\n",
      "True\n",
      "True\n",
      "True\n",
      "True\n",
      "True\n",
      "True\n",
      "True\n",
      "True\n",
      "True\n",
      "True\n",
      "True\n",
      "True\n",
      "True\n",
      "False\n",
      "False\n",
      "False\n"
     ]
    }
   ],
   "source": [
    "for layer in base_model.layers:\n",
    "    print(layer.trainable)"
   ]
  },
  {
   "cell_type": "code",
   "execution_count": 17,
   "id": "63bd262a",
   "metadata": {},
   "outputs": [],
   "source": [
    "inputs = keras.Input(shape=(w, h, 3))\n",
    "x = base_model(inputs)\n",
    "x = keras.layers.Flatten()(x)\n",
    "x = keras.layers.Dense(512, activation='relu')(x)\n",
    "outputs = keras.layers.Dense(1, activation='sigmoid')(x)\n",
    "model = keras.Model(inputs, outputs)"
   ]
  },
  {
   "cell_type": "code",
   "execution_count": 18,
   "id": "a8bb5533",
   "metadata": {},
   "outputs": [
    {
     "name": "stdout",
     "output_type": "stream",
     "text": [
      "Epoch 1/20\n",
      "179/179 [==============================] - 22s 100ms/step - loss: 54.6083 - binary_accuracy: 0.8809 - val_loss: 2.2683 - val_binary_accuracy: 0.8485\n",
      "Epoch 2/20\n",
      "179/179 [==============================] - 17s 92ms/step - loss: 0.0873 - binary_accuracy: 0.9871 - val_loss: 1.6902 - val_binary_accuracy: 0.8636\n",
      "Epoch 3/20\n",
      "179/179 [==============================] - 17s 93ms/step - loss: 0.0078 - binary_accuracy: 0.9972 - val_loss: 1.3994 - val_binary_accuracy: 0.8535\n",
      "Epoch 4/20\n",
      "179/179 [==============================] - 18s 97ms/step - loss: 1.6894e-04 - binary_accuracy: 1.0000 - val_loss: 1.4084 - val_binary_accuracy: 0.8485\n",
      "Epoch 5/20\n",
      "179/179 [==============================] - 17s 94ms/step - loss: 6.5609e-05 - binary_accuracy: 1.0000 - val_loss: 1.4177 - val_binary_accuracy: 0.8485\n",
      "Epoch 6/20\n",
      "179/179 [==============================] - 18s 97ms/step - loss: 5.0323e-05 - binary_accuracy: 1.0000 - val_loss: 1.4274 - val_binary_accuracy: 0.8485\n",
      "Epoch 7/20\n",
      "179/179 [==============================] - 17s 95ms/step - loss: 4.0759e-05 - binary_accuracy: 1.0000 - val_loss: 1.4379 - val_binary_accuracy: 0.8485\n",
      "Epoch 8/20\n",
      "179/179 [==============================] - 17s 96ms/step - loss: 3.3765e-05 - binary_accuracy: 1.0000 - val_loss: 1.4476 - val_binary_accuracy: 0.8485\n",
      "Epoch 9/20\n",
      "179/179 [==============================] - 17s 93ms/step - loss: 2.8023e-05 - binary_accuracy: 1.0000 - val_loss: 1.4571 - val_binary_accuracy: 0.8485\n",
      "Epoch 10/20\n",
      "179/179 [==============================] - 17s 96ms/step - loss: 2.3838e-05 - binary_accuracy: 1.0000 - val_loss: 1.4667 - val_binary_accuracy: 0.8535\n",
      "Epoch 11/20\n",
      "179/179 [==============================] - 17s 93ms/step - loss: 2.0121e-05 - binary_accuracy: 1.0000 - val_loss: 1.4745 - val_binary_accuracy: 0.8485\n",
      "Epoch 12/20\n",
      "179/179 [==============================] - 17s 94ms/step - loss: 1.7373e-05 - binary_accuracy: 1.0000 - val_loss: 1.4841 - val_binary_accuracy: 0.8535\n",
      "Epoch 13/20\n",
      "179/179 [==============================] - 17s 94ms/step - loss: 1.5012e-05 - binary_accuracy: 1.0000 - val_loss: 1.4928 - val_binary_accuracy: 0.8535\n",
      "Epoch 14/20\n",
      "179/179 [==============================] - 17s 95ms/step - loss: 1.3115e-05 - binary_accuracy: 1.0000 - val_loss: 1.5012 - val_binary_accuracy: 0.8535\n",
      "Epoch 15/20\n",
      "179/179 [==============================] - 17s 95ms/step - loss: 1.1226e-05 - binary_accuracy: 1.0000 - val_loss: 1.5096 - val_binary_accuracy: 0.8535\n",
      "Epoch 16/20\n",
      "179/179 [==============================] - 17s 96ms/step - loss: 9.8477e-06 - binary_accuracy: 1.0000 - val_loss: 1.5176 - val_binary_accuracy: 0.8535\n",
      "Epoch 17/20\n",
      "179/179 [==============================] - 19s 102ms/step - loss: 8.5772e-06 - binary_accuracy: 1.0000 - val_loss: 1.5247 - val_binary_accuracy: 0.8535\n",
      "Epoch 18/20\n",
      "179/179 [==============================] - 17s 96ms/step - loss: 7.6264e-06 - binary_accuracy: 1.0000 - val_loss: 1.5310 - val_binary_accuracy: 0.8535\n",
      "Epoch 19/20\n",
      "179/179 [==============================] - 17s 94ms/step - loss: 6.6674e-06 - binary_accuracy: 1.0000 - val_loss: 1.5392 - val_binary_accuracy: 0.8535\n",
      "Epoch 20/20\n",
      "179/179 [==============================] - 17s 96ms/step - loss: 5.9077e-06 - binary_accuracy: 1.0000 - val_loss: 1.5459 - val_binary_accuracy: 0.8535\n"
     ]
    }
   ],
   "source": [
    "save_model = tf.keras.callbacks.ModelCheckpoint(\n",
    "    filepath='models/vgg16/tl-vgg16-relu-rmsprop-model_{epoch:02d}.h5')\n",
    "\n",
    "save_weight = tf.keras.callbacks.ModelCheckpoint(\n",
    "    filepath='models/vgg16/tl-vgg16-relu-rmsprop-weight_{epoch:02d}.h5',\n",
    "    save_weights_only=True)\n",
    "\n",
    "lr_schedule = keras.optimizers.schedules.ExponentialDecay(\n",
    "    initial_learning_rate=1e-2,\n",
    "    decay_steps=10000,\n",
    "    decay_rate=0.9)\n",
    "\n",
    "model.compile(optimizer=keras.optimizers.Adam(learning_rate=lr_schedule),\n",
    "              loss=keras.losses.BinaryCrossentropy(),\n",
    "              metrics=[keras.metrics.BinaryAccuracy()])\n",
    "history = model.fit(traingen, epochs=20, validation_data= validgen,\n",
    "             callbacks=[save_model, save_weight])"
   ]
  },
  {
   "cell_type": "code",
   "execution_count": 21,
   "id": "075bc20f",
   "metadata": {},
   "outputs": [
    {
     "name": "stdout",
     "output_type": "stream",
     "text": [
      "dict_keys(['loss', 'binary_accuracy', 'val_loss', 'val_binary_accuracy'])\n"
     ]
    },
    {
     "data": {
      "image/png": "[encoded data removed]",
      "text/plain": [
       "<Figure size 640x480 with 1 Axes>"
      ]
     },
     "metadata": {},
     "output_type": "display_data"
    },
    {
     "data": {
      "image/png": "[encoded data removed]",
      "text/plain": [
       "<Figure size 640x480 with 1 Axes>"
      ]
     },
     "metadata": {},
     "output_type": "display_data"
    }
   ],
   "source": [
    "# list all data in history\n",
    "print(history.history.keys())\n",
    "\n",
    "import matplotlib.pyplot as plt\n",
    "\n",
    "# summarize history for accuracy\n",
    "plt.plot(history.history['binary_accuracy'])\n",
    "plt.plot(history.history['val_binary_accuracy'])\n",
    "plt.title('model accuracy')\n",
    "plt.ylabel('binary_accuracy')\n",
    "plt.xlabel('epoch')\n",
    "plt.legend(['train', 'test'], loc='upper left')\n",
    "plt.show()\n",
    "# summarize history for loss\n",
    "plt.plot(history.history['loss'])\n",
    "plt.plot(history.history['val_loss'])\n",
    "plt.title('model loss')\n",
    "plt.ylabel('loss')\n",
    "plt.xlabel('epoch')\n",
    "plt.legend(['train', 'test'], loc='upper left')\n",
    "plt.show()"
   ]
  },
  {
   "cell_type": "code",
   "execution_count": null,
   "id": "e6222507",
   "metadata": {},
   "outputs": [],
   "source": []
  }
 ],
 "metadata": {
  "kernelspec": {
   "display_name": "Python 3.10.7 ('bmifall22venv': venv)",
   "language": "python",
   "name": "python3"
  },
  "language_info": {
   "codemirror_mode": {
    "name": "ipython",
    "version": 3
   },
   "file_extension": ".py",
   "mimetype": "text/x-python",
   "name": "python",
   "nbconvert_exporter": "python",
   "pygments_lexer": "ipython3",
   "version": "3.10.7"
  },
  "vscode": {
   "interpreter": {
    "hash": "0303d133bb8cecc701de3931bacc08028fc377926683ffc07aa14b9700330e87"
   }
  }
 },
 "nbformat": 4,
 "nbformat_minor": 5
}
