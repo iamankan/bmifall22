{
 "cells": [
  {
   "cell_type": "code",
   "execution_count": 2,
   "id": "ba5ce71f",
   "metadata": {},
   "outputs": [],
   "source": [
    "import tensorflow as tf\n",
    "import keras"
   ]
  },
  {
   "cell_type": "code",
   "execution_count": 6,
   "id": "bb7772fb",
   "metadata": {},
   "outputs": [],
   "source": [
    "fdata = f'../../data\\sars-cov2-ct-scan'"
   ]
  },
  {
   "cell_type": "code",
   "execution_count": null,
   "id": "72ae9200",
   "metadata": {},
   "outputs": [],
   "source": []
  }
 ],
 "metadata": {
  "kernelspec": {
   "display_name": "Python 3.10.7 ('bmifall22venv': venv)",
   "language": "python",
   "name": "python3"
  },
  "language_info": {
   "codemirror_mode": {
    "name": "ipython",
    "version": 3
   },
   "file_extension": ".py",
   "mimetype": "text/x-python",
   "name": "python",
   "nbconvert_exporter": "python",
   "pygments_lexer": "ipython3",
   "version": "3.10.7"
  },
  "vscode": {
   "interpreter": {
    "hash": "0303d133bb8cecc701de3931bacc08028fc377926683ffc07aa14b9700330e87"
   }
  }
 },
 "nbformat": 4,
 "nbformat_minor": 5
}
