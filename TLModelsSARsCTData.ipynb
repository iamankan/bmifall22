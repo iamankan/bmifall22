{
 "cells": [
  {
   "cell_type": "code",
   "execution_count": 1,
   "id": "ba5ce71f",
   "metadata": {},
   "outputs": [],
   "source": [
    "import tensorflow as tf\n",
    "from pathlib import Path\n",
    "from tensorflow import keras\n",
    "from keras.preprocessing.image import ImageDataGenerator"
   ]
  },
  {
   "cell_type": "code",
   "execution_count": 2,
   "id": "e764d9e6",
   "metadata": {},
   "outputs": [
    {
     "name": "stdout",
     "output_type": "stream",
     "text": [
      "Num GPUs Available:  1\n"
     ]
    }
   ],
   "source": [
    "print(\"Num GPUs Available: \", len(tf.config.list_physical_devices('GPU')))"
   ]
  },
  {
   "cell_type": "code",
   "execution_count": 3,
   "id": "bb7772fb",
   "metadata": {},
   "outputs": [],
   "source": [
    "fdata = f'../../data/sars-cov2-ct-scan'\n",
    "\n",
    "p = Path(fdata)\n",
    "ptrain = p / 'train'\n",
    "ptest = p / 'test'\n",
    "pval = p / 'val'"
   ]
  },
  {
   "cell_type": "code",
   "execution_count": 4,
   "id": "886e63ba",
   "metadata": {},
   "outputs": [],
   "source": [
    "BATCH_SIZE = 10\n",
    "\n",
    "w, h = (224, 224)\n",
    "\n",
    "train_generator = ImageDataGenerator()\n",
    "\n",
    "val_generator = ImageDataGenerator()\n",
    "\n",
    "test_generator = ImageDataGenerator()\n",
    "\n",
    "# train_generator = ImageDataGenerator(rescale=1. / 255)\n",
    "\n",
    "# val_generator = ImageDataGenerator(rescale=1. / 255)\n",
    "\n",
    "# test_generator = ImageDataGenerator(rescale=1. / 255)"
   ]
  },
  {
   "cell_type": "code",
   "execution_count": 5,
   "id": "72ae9200",
   "metadata": {},
   "outputs": [
    {
     "name": "stdout",
     "output_type": "stream",
     "text": [
      "Found 1788 images belonging to 2 classes.\n",
      "Found 198 images belonging to 2 classes.\n",
      "Found 495 images belonging to 2 classes.\n"
     ]
    }
   ],
   "source": [
    "traingen = train_generator.flow_from_directory(ptrain,\n",
    "                                               target_size=(w, h),\n",
    "                                               class_mode='binary',\n",
    "                                               batch_size=BATCH_SIZE, \n",
    "                                               shuffle=True,\n",
    "                                               seed=42)\n",
    "\n",
    "validgen = val_generator.flow_from_directory(pval,\n",
    "                                               target_size=(w, h),\n",
    "                                               class_mode='binary',\n",
    "                                               batch_size=BATCH_SIZE,\n",
    "                                               shuffle=True,\n",
    "                                               seed=42)\n",
    "\n",
    "testgen = test_generator.flow_from_directory(ptest,\n",
    "                                             target_size=(w, h),\n",
    "                                             class_mode='binary',\n",
    "                                             batch_size=1,\n",
    "                                             shuffle=False,\n",
    "                                             seed=42)"
   ]
  },
  {
   "cell_type": "code",
   "execution_count": 6,
   "id": "281854fb",
   "metadata": {},
   "outputs": [
    {
     "data": {
      "text/plain": [
       "array([0, 0, 0, ..., 1, 1, 1])"
      ]
     },
     "execution_count": 6,
     "metadata": {},
     "output_type": "execute_result"
    }
   ],
   "source": [
    "traingen.classes"
   ]
  },
  {
   "cell_type": "code",
   "execution_count": 7,
   "id": "76074b99",
   "metadata": {},
   "outputs": [
    {
     "data": {
      "text/plain": [
       "0"
      ]
     },
     "execution_count": 7,
     "metadata": {},
     "output_type": "execute_result"
    }
   ],
   "source": [
    "traingen.batch_index"
   ]
  },
  {
   "cell_type": "code",
   "execution_count": 8,
   "id": "d4fd6979",
   "metadata": {},
   "outputs": [],
   "source": [
    "base_model = keras.applications.VGG16(\n",
    "    weights='imagenet',  # Load weights pre-trained on ImageNet.\n",
    "    input_shape=(w, h, 3),\n",
    "    include_top=True)"
   ]
  },
  {
   "cell_type": "code",
   "execution_count": 9,
   "id": "a0047d78",
   "metadata": {},
   "outputs": [
    {
     "name": "stdout",
     "output_type": "stream",
     "text": [
      "Model: \"vgg16\"\n",
      "_________________________________________________________________\n",
      " Layer (type)                Output Shape              Param #   \n",
      "=================================================================\n",
      " input_1 (InputLayer)        [(None, 224, 224, 3)]     0         \n",
      "                                                                 \n",
      " block1_conv1 (Conv2D)       (None, 224, 224, 64)      1792      \n",
      "                                                                 \n",
      " block1_conv2 (Conv2D)       (None, 224, 224, 64)      36928     \n",
      "                                                                 \n",
      " block1_pool (MaxPooling2D)  (None, 112, 112, 64)      0         \n",
      "                                                                 \n",
      " block2_conv1 (Conv2D)       (None, 112, 112, 128)     73856     \n",
      "                                                                 \n",
      " block2_conv2 (Conv2D)       (None, 112, 112, 128)     147584    \n",
      "                                                                 \n",
      " block2_pool (MaxPooling2D)  (None, 56, 56, 128)       0         \n",
      "                                                                 \n",
      " block3_conv1 (Conv2D)       (None, 56, 56, 256)       295168    \n",
      "                                                                 \n",
      " block3_conv2 (Conv2D)       (None, 56, 56, 256)       590080    \n",
      "                                                                 \n",
      " block3_conv3 (Conv2D)       (None, 56, 56, 256)       590080    \n",
      "                                                                 \n",
      " block3_pool (MaxPooling2D)  (None, 28, 28, 256)       0         \n",
      "                                                                 \n",
      " block4_conv1 (Conv2D)       (None, 28, 28, 512)       1180160   \n",
      "                                                                 \n",
      " block4_conv2 (Conv2D)       (None, 28, 28, 512)       2359808   \n",
      "                                                                 \n",
      " block4_conv3 (Conv2D)       (None, 28, 28, 512)       2359808   \n",
      "                                                                 \n",
      " block4_pool (MaxPooling2D)  (None, 14, 14, 512)       0         \n",
      "                                                                 \n",
      " block5_conv1 (Conv2D)       (None, 14, 14, 512)       2359808   \n",
      "                                                                 \n",
      " block5_conv2 (Conv2D)       (None, 14, 14, 512)       2359808   \n",
      "                                                                 \n",
      " block5_conv3 (Conv2D)       (None, 14, 14, 512)       2359808   \n",
      "                                                                 \n",
      " block5_pool (MaxPooling2D)  (None, 7, 7, 512)         0         \n",
      "                                                                 \n",
      " flatten (Flatten)           (None, 25088)             0         \n",
      "                                                                 \n",
      " fc1 (Dense)                 (None, 4096)              102764544 \n",
      "                                                                 \n",
      " fc2 (Dense)                 (None, 4096)              16781312  \n",
      "                                                                 \n",
      " predictions (Dense)         (None, 1000)              4097000   \n",
      "                                                                 \n",
      "=================================================================\n",
      "Total params: 138,357,544\n",
      "Trainable params: 138,357,544\n",
      "Non-trainable params: 0\n",
      "_________________________________________________________________\n"
     ]
    }
   ],
   "source": [
    "base_model.summary()"
   ]
  },
  {
   "cell_type": "code",
   "execution_count": 10,
   "id": "c305de65",
   "metadata": {},
   "outputs": [],
   "source": [
    "#Freeze the base model\n",
    "base_model.trainable = True\n",
    "for layer in base_model.layers:\n",
    "    layer.trainable = False"
   ]
  },
  {
   "cell_type": "code",
   "execution_count": 11,
   "id": "77eae416",
   "metadata": {},
   "outputs": [
    {
     "name": "stdout",
     "output_type": "stream",
     "text": [
      "False\n",
      "False\n",
      "False\n",
      "False\n",
      "False\n",
      "False\n",
      "False\n",
      "False\n",
      "False\n",
      "False\n",
      "False\n",
      "False\n",
      "False\n",
      "False\n",
      "False\n",
      "False\n",
      "False\n",
      "False\n",
      "False\n",
      "False\n",
      "False\n",
      "False\n",
      "False\n"
     ]
    }
   ],
   "source": [
    "for layer in base_model.layers:\n",
    "    print(layer.trainable)"
   ]
  },
  {
   "cell_type": "code",
   "execution_count": 12,
   "id": "edde6c40",
   "metadata": {},
   "outputs": [
    {
     "name": "stdout",
     "output_type": "stream",
     "text": [
      "Model: \"vgg16\"\n",
      "_________________________________________________________________\n",
      " Layer (type)                Output Shape              Param #   \n",
      "=================================================================\n",
      " input_1 (InputLayer)        [(None, 224, 224, 3)]     0         \n",
      "                                                                 \n",
      " block1_conv1 (Conv2D)       (None, 224, 224, 64)      1792      \n",
      "                                                                 \n",
      " block1_conv2 (Conv2D)       (None, 224, 224, 64)      36928     \n",
      "                                                                 \n",
      " block1_pool (MaxPooling2D)  (None, 112, 112, 64)      0         \n",
      "                                                                 \n",
      " block2_conv1 (Conv2D)       (None, 112, 112, 128)     73856     \n",
      "                                                                 \n",
      " block2_conv2 (Conv2D)       (None, 112, 112, 128)     147584    \n",
      "                                                                 \n",
      " block2_pool (MaxPooling2D)  (None, 56, 56, 128)       0         \n",
      "                                                                 \n",
      " block3_conv1 (Conv2D)       (None, 56, 56, 256)       295168    \n",
      "                                                                 \n",
      " block3_conv2 (Conv2D)       (None, 56, 56, 256)       590080    \n",
      "                                                                 \n",
      " block3_conv3 (Conv2D)       (None, 56, 56, 256)       590080    \n",
      "                                                                 \n",
      " block3_pool (MaxPooling2D)  (None, 28, 28, 256)       0         \n",
      "                                                                 \n",
      " block4_conv1 (Conv2D)       (None, 28, 28, 512)       1180160   \n",
      "                                                                 \n",
      " block4_conv2 (Conv2D)       (None, 28, 28, 512)       2359808   \n",
      "                                                                 \n",
      " block4_conv3 (Conv2D)       (None, 28, 28, 512)       2359808   \n",
      "                                                                 \n",
      " block4_pool (MaxPooling2D)  (None, 14, 14, 512)       0         \n",
      "                                                                 \n",
      " block5_conv1 (Conv2D)       (None, 14, 14, 512)       2359808   \n",
      "                                                                 \n",
      " block5_conv2 (Conv2D)       (None, 14, 14, 512)       2359808   \n",
      "                                                                 \n",
      " block5_conv3 (Conv2D)       (None, 14, 14, 512)       2359808   \n",
      "                                                                 \n",
      " block5_pool (MaxPooling2D)  (None, 7, 7, 512)         0         \n",
      "                                                                 \n",
      " flatten (Flatten)           (None, 25088)             0         \n",
      "                                                                 \n",
      " fc1 (Dense)                 (None, 4096)              102764544 \n",
      "                                                                 \n",
      " fc2 (Dense)                 (None, 4096)              16781312  \n",
      "                                                                 \n",
      " predictions (Dense)         (None, 1000)              4097000   \n",
      "                                                                 \n",
      "=================================================================\n",
      "Total params: 138,357,544\n",
      "Trainable params: 0\n",
      "Non-trainable params: 138,357,544\n",
      "_________________________________________________________________\n"
     ]
    }
   ],
   "source": [
    "base_model.summary()"
   ]
  },
  {
   "cell_type": "code",
   "execution_count": 14,
   "id": "63bd262a",
   "metadata": {},
   "outputs": [],
   "source": [
    "inputs = keras.Input(shape=(w, h, 3))\n",
    "x = base_model(inputs)\n",
    "x = keras.layers.Flatten()(x)\n",
    "x = keras.layers.BatchNormalization()(x)\n",
    "x = keras.layers.Dense(1000)(x)\n",
    "x = keras.layers.Dropout(0.3)(x)\n",
    "x = keras.layers.Dense(500)(x)\n",
    "x = keras.layers.Dropout(0.2)(x)\n",
    "x = keras.layers.Dense(100)(x)\n",
    "x = keras.layers.Dropout(0.2)(x)\n",
    "x = keras.layers.Dense(20)(x)\n",
    "x = keras.layers.Dropout(0.2)(x)\n",
    "x = keras.layers.Dense(10)(x)\n",
    "x = keras.layers.Dropout(0.2)(x)\n",
    "outputs = keras.layers.Dense(1, activation='sigmoid')(x)\n",
    "'''\n",
    "activation = ‘softmax’ should be used for multiclass classification whereas ’sigmoid’ for binary classification.\n",
    "\n",
    "https://dataaspirant.com/difference-between-softmax-function-and-sigmoid-function/\n",
    "\n",
    "'''\n",
    "model = keras.Model(inputs, outputs)"
   ]
  },
  {
   "cell_type": "code",
   "execution_count": 15,
   "id": "fe08912d",
   "metadata": {},
   "outputs": [],
   "source": [
    "from cosine_annealing import CosineAnnealingScheduler\n",
    "epochs = 20\n",
    "calr = CosineAnnealingScheduler(T_max=epochs, eta_max=0.05, eta_min=4e-4)"
   ]
  },
  {
   "cell_type": "code",
   "execution_count": 16,
   "id": "a8bb5533",
   "metadata": {},
   "outputs": [
    {
     "name": "stdout",
     "output_type": "stream",
     "text": [
      "Epoch 1/20\n",
      "179/179 [==============================] - 34s 162ms/step - loss: 0.8766 - binary_accuracy: 0.6270 - val_loss: 0.9333 - val_binary_accuracy: 0.5707\n",
      "Epoch 2/20\n",
      "179/179 [==============================] - 29s 162ms/step - loss: 0.8378 - binary_accuracy: 0.6689 - val_loss: 1.0101 - val_binary_accuracy: 0.4949\n",
      "Epoch 3/20\n",
      "179/179 [==============================] - 31s 175ms/step - loss: 0.9359 - binary_accuracy: 0.5682 - val_loss: 0.9337 - val_binary_accuracy: 0.5758\n",
      "Epoch 4/20\n",
      "179/179 [==============================] - 27s 151ms/step - loss: 0.9066 - binary_accuracy: 0.5979 - val_loss: 1.0051 - val_binary_accuracy: 0.5000\n",
      "Epoch 5/20\n",
      "179/179 [==============================] - 27s 150ms/step - loss: 0.8966 - binary_accuracy: 0.6079 - val_loss: 1.0051 - val_binary_accuracy: 0.5000\n",
      "Epoch 6/20\n",
      "179/179 [==============================] - 26s 143ms/step - loss: 0.8510 - binary_accuracy: 0.6532 - val_loss: 1.0000 - val_binary_accuracy: 0.5051\n",
      "Epoch 7/20\n",
      "179/179 [==============================] - 25s 138ms/step - loss: 0.8680 - binary_accuracy: 0.6365 - val_loss: 1.0134 - val_binary_accuracy: 0.4899\n",
      "Epoch 8/20\n",
      "179/179 [==============================] - 26s 145ms/step - loss: 0.9209 - binary_accuracy: 0.5833 - val_loss: 1.0101 - val_binary_accuracy: 0.4949\n",
      "Epoch 9/20\n",
      "179/179 [==============================] - 26s 141ms/step - loss: 1.0084 - binary_accuracy: 0.4961 - val_loss: 1.0101 - val_binary_accuracy: 0.4949\n",
      "Epoch 10/20\n",
      "179/179 [==============================] - 26s 142ms/step - loss: 0.9802 - binary_accuracy: 0.5240 - val_loss: 1.0303 - val_binary_accuracy: 0.4747\n",
      "Epoch 11/20\n",
      "179/179 [==============================] - 26s 143ms/step - loss: 0.9485 - binary_accuracy: 0.5559 - val_loss: 1.0202 - val_binary_accuracy: 0.4848\n",
      "Epoch 12/20\n",
      "179/179 [==============================] - 27s 147ms/step - loss: 0.8360 - binary_accuracy: 0.6683 - val_loss: 0.9599 - val_binary_accuracy: 0.5455\n",
      "Epoch 13/20\n",
      "179/179 [==============================] - 25s 140ms/step - loss: 0.9379 - binary_accuracy: 0.5666 - val_loss: 1.0101 - val_binary_accuracy: 0.4949\n",
      "Epoch 14/20\n",
      "179/179 [==============================] - 25s 140ms/step - loss: 0.9008 - binary_accuracy: 0.6035 - val_loss: 0.9798 - val_binary_accuracy: 0.5253\n",
      "Epoch 15/20\n",
      "179/179 [==============================] - 25s 141ms/step - loss: 0.8635 - binary_accuracy: 0.6409 - val_loss: 0.9646 - val_binary_accuracy: 0.5404\n",
      "Epoch 16/20\n",
      "179/179 [==============================] - 25s 138ms/step - loss: 0.9054 - binary_accuracy: 0.5996 - val_loss: 1.0051 - val_binary_accuracy: 0.5000\n",
      "Epoch 17/20\n",
      "179/179 [==============================] - 29s 162ms/step - loss: 0.8736 - binary_accuracy: 0.6309 - val_loss: 0.9848 - val_binary_accuracy: 0.5202\n",
      "Epoch 18/20\n",
      "179/179 [==============================] - 26s 144ms/step - loss: 0.8514 - binary_accuracy: 0.6532 - val_loss: 0.9747 - val_binary_accuracy: 0.5303\n",
      "Epoch 19/20\n",
      "179/179 [==============================] - 25s 140ms/step - loss: 0.9403 - binary_accuracy: 0.5643 - val_loss: 1.0000 - val_binary_accuracy: 0.5051\n",
      "Epoch 20/20\n",
      "179/179 [==============================] - 28s 155ms/step - loss: 1.0000 - binary_accuracy: 0.5045 - val_loss: 1.0000 - val_binary_accuracy: 0.5051\n"
     ]
    }
   ],
   "source": [
    "foldername = f'models/VGG16d'\n",
    "save_model = tf.keras.callbacks.ModelCheckpoint(\n",
    "    filepath=foldername+'/tl-model_{epoch:02d}.h5')\n",
    "\n",
    "save_weight = tf.keras.callbacks.ModelCheckpoint(\n",
    "    filepath=foldername+'/tl-weight_{epoch:02d}.h5',\n",
    "    save_weights_only=True)\n",
    "\n",
    "lr_schedule = keras.optimizers.schedules.ExponentialDecay(\n",
    "    initial_learning_rate=1e-2,\n",
    "    decay_steps=10000,\n",
    "    decay_rate=0.9)\n",
    "\n",
    "model.compile(optimizer=keras.optimizers.Adam(),\n",
    "              loss=keras.losses.Hinge(),\n",
    "              metrics=[keras.metrics.BinaryAccuracy()])\n",
    "history = model.fit(traingen, epochs=epochs, validation_data= validgen,\n",
    "             callbacks=[save_model, save_weight])"
   ]
  },
  {
   "cell_type": "code",
   "execution_count": null,
   "id": "075bc20f",
   "metadata": {},
   "outputs": [
    {
     "name": "stdout",
     "output_type": "stream",
     "text": [
      "dict_keys(['loss', 'binary_accuracy', 'val_loss', 'val_binary_accuracy'])\n"
     ]
    },
    {
     "data": {
      "image/png": "[encoded data removed]",
      "text/plain": [
       "<Figure size 640x480 with 1 Axes>"
      ]
     },
     "metadata": {},
     "output_type": "display_data"
    },
    {
     "data": {
      "image/png": "[encoded data removed]",
      "text/plain": [
       "<Figure size 640x480 with 1 Axes>"
      ]
     },
     "metadata": {},
     "output_type": "display_data"
    }
   ],
   "source": [
    "# list all data in history\n",
    "print(history.history.keys())\n",
    "\n",
    "import matplotlib.pyplot as plt\n",
    "\n",
    "# summarize history for accuracy\n",
    "plt.plot(history.history['binary_accuracy'])\n",
    "plt.plot(history.history['val_binary_accuracy'])\n",
    "plt.title('model accuracy')\n",
    "plt.ylabel('binary_accuracy')\n",
    "plt.xlabel('epoch')\n",
    "plt.legend(['train', 'test'], loc='upper left')\n",
    "plt.show()\n",
    "# summarize history for loss\n",
    "plt.plot(history.history['loss'])\n",
    "plt.plot(history.history['val_loss'])\n",
    "plt.title('model loss')\n",
    "plt.ylabel('loss')\n",
    "plt.xlabel('epoch')\n",
    "plt.legend(['train', 'test'], loc='upper left')\n",
    "plt.show()"
   ]
  },
  {
   "cell_type": "code",
   "execution_count": null,
   "id": "e6222507",
   "metadata": {},
   "outputs": [
    {
     "name": "stderr",
     "output_type": "stream",
     "text": [
      "C:\\Users\\ankan\\AppData\\Local\\Temp\\ipykernel_10592\\3774926068.py:1: UserWarning: `Model.predict_generator` is deprecated and will be removed in a future version. Please use `Model.predict`, which supports generators.\n",
      "  yp=base_model.predict_generator(testgen)\n"
     ]
    },
    {
     "name": "stdout",
     "output_type": "stream",
     "text": [
      "(495, 7, 7, 512)\n"
     ]
    }
   ],
   "source": [
    "yp=base_model.predict_generator(testgen)\n",
    "print(yp.shape)"
   ]
  },
  {
   "cell_type": "code",
   "execution_count": null,
   "id": "d11d6b54",
   "metadata": {},
   "outputs": [
    {
     "data": {
      "text/plain": [
       "495"
      ]
     },
     "execution_count": 17,
     "metadata": {},
     "output_type": "execute_result"
    }
   ],
   "source": [
    "len(testgen.classes)"
   ]
  },
  {
   "cell_type": "code",
   "execution_count": null,
   "id": "725d5682",
   "metadata": {},
   "outputs": [
    {
     "data": {
      "text/plain": [
       "{'COVID': 0, 'non-COVID': 1}"
      ]
     },
     "execution_count": 24,
     "metadata": {},
     "output_type": "execute_result"
    }
   ],
   "source": [
    "testgen.class_indices"
   ]
  },
  {
   "cell_type": "code",
   "execution_count": null,
   "id": "4a32a5ae",
   "metadata": {},
   "outputs": [
    {
     "name": "stderr",
     "output_type": "stream",
     "text": [
      "C:\\Users\\ankan\\AppData\\Local\\Temp\\ipykernel_12832\\2839527870.py:6: UserWarning: `Model.predict_generator` is deprecated and will be removed in a future version. Please use `Model.predict`, which supports generators.\n",
      "  Y_pred = model.predict_generator(testgen, num_of_test_samples // batch_size)\n"
     ]
    },
    {
     "name": "stdout",
     "output_type": "stream",
     "text": [
      "Confusion Matrix\n",
      "[[126 124]\n",
      " [ 11 234]]\n",
      "Classification Report\n",
      "              precision    recall  f1-score   support\n",
      "\n",
      "       COVID       0.92      0.50      0.65       250\n",
      "   Non-COVID       0.65      0.96      0.78       245\n",
      "\n",
      "    accuracy                           0.73       495\n",
      "   macro avg       0.79      0.73      0.71       495\n",
      "weighted avg       0.79      0.73      0.71       495\n",
      "\n"
     ]
    }
   ],
   "source": [
    "from sklearn.metrics import classification_report, confusion_matrix\n",
    "import numpy as np\n",
    "\n",
    "num_of_test_samples = len(testgen.classes)\n",
    "batch_size = 1\n",
    "Y_pred = model.predict_generator(testgen, num_of_test_samples // batch_size)\n",
    "y_pred = [round(i[0]) for i in Y_pred]\n",
    "print('Confusion Matrix')\n",
    "print(confusion_matrix(testgen.classes, y_pred))\n",
    "print('Classification Report')\n",
    "target_names = ['COVID', 'Non-COVID']\n",
    "print(classification_report(testgen.classes, y_pred, target_names=target_names))"
   ]
  },
  {
   "cell_type": "code",
   "execution_count": null,
   "id": "f63f50bf",
   "metadata": {},
   "outputs": [
    {
     "data": {
      "text/plain": [
       "(224, 224, 3)"
      ]
     },
     "execution_count": 28,
     "metadata": {},
     "output_type": "execute_result"
    }
   ],
   "source": [
    "testgen.image_shape"
   ]
  },
  {
   "cell_type": "code",
   "execution_count": null,
   "id": "68bfaa66",
   "metadata": {},
   "outputs": [
    {
     "data": {
      "text/plain": [
       "array([0, 0, 0, 0, 0, 0, 0, 0, 0, 0, 0, 0, 0, 0, 0, 0, 0, 0, 0, 0, 0, 0,\n",
       "       0, 0, 0, 0, 0, 0, 0, 0, 0, 0, 0, 0, 0, 0, 0, 0, 0, 0, 0, 0, 0, 0,\n",
       "       0, 0, 0, 0, 0, 0, 0, 0, 0, 0, 0, 0, 0, 0, 0, 0, 0, 0, 0, 0, 0, 0,\n",
       "       0, 0, 0, 0, 0, 0, 0, 0, 0, 0, 0, 0, 0, 0, 0, 0, 0, 0, 0, 0, 0, 0,\n",
       "       0, 0, 0, 0, 0, 0, 0, 0, 0, 0, 0, 0, 0, 0, 0, 0, 0, 0, 0, 0, 0, 0,\n",
       "       0, 0, 0, 0, 0, 0, 0, 0, 0, 0, 0, 0, 0, 0, 0, 0, 0, 0, 0, 0, 0, 0,\n",
       "       0, 0, 0, 0, 0, 0, 0, 0, 0, 0, 0, 0, 0, 0, 0, 0, 0, 0, 0, 0, 0, 0,\n",
       "       0, 0, 0, 0, 0, 0, 0, 0, 0, 0, 0, 0, 0, 0, 0, 0, 0, 0, 0, 0, 0, 0,\n",
       "       0, 0, 0, 0, 0, 0, 0, 0, 0, 0, 0, 0, 0, 0, 0, 0, 0, 0, 0, 0, 0, 0,\n",
       "       0, 0, 0, 0, 0, 0, 0, 0, 0, 0, 0, 0, 0, 0, 0, 0, 0, 0, 0, 0, 0, 0,\n",
       "       0, 0, 0, 0, 0, 0, 0, 0, 0, 0, 0, 0, 0, 0, 0, 0, 0, 0, 0, 0, 0, 0,\n",
       "       0, 0, 0, 0, 0, 0, 0, 0, 1, 1, 1, 1, 1, 1, 1, 1, 1, 1, 1, 1, 1, 1,\n",
       "       1, 1, 1, 1, 1, 1, 1, 1, 1, 1, 1, 1, 1, 1, 1, 1, 1, 1, 1, 1, 1, 1,\n",
       "       1, 1, 1, 1, 1, 1, 1, 1, 1, 1, 1, 1, 1, 1, 1, 1, 1, 1, 1, 1, 1, 1,\n",
       "       1, 1, 1, 1, 1, 1, 1, 1, 1, 1, 1, 1, 1, 1, 1, 1, 1, 1, 1, 1, 1, 1,\n",
       "       1, 1, 1, 1, 1, 1, 1, 1, 1, 1, 1, 1, 1, 1, 1, 1, 1, 1, 1, 1, 1, 1,\n",
       "       1, 1, 1, 1, 1, 1, 1, 1, 1, 1, 1, 1, 1, 1, 1, 1, 1, 1, 1, 1, 1, 1,\n",
       "       1, 1, 1, 1, 1, 1, 1, 1, 1, 1, 1, 1, 1, 1, 1, 1, 1, 1, 1, 1, 1, 1,\n",
       "       1, 1, 1, 1, 1, 1, 1, 1, 1, 1, 1, 1, 1, 1, 1, 1, 1, 1, 1, 1, 1, 1,\n",
       "       1, 1, 1, 1, 1, 1, 1, 1, 1, 1, 1, 1, 1, 1, 1, 1, 1, 1, 1, 1, 1, 1,\n",
       "       1, 1, 1, 1, 1, 1, 1, 1, 1, 1, 1, 1, 1, 1, 1, 1, 1, 1, 1, 1, 1, 1,\n",
       "       1, 1, 1, 1, 1, 1, 1, 1, 1, 1, 1, 1, 1, 1, 1, 1, 1, 1, 1, 1, 1, 1,\n",
       "       1, 1, 1, 1, 1, 1, 1, 1, 1, 1, 1])"
      ]
     },
     "execution_count": 33,
     "metadata": {},
     "output_type": "execute_result"
    }
   ],
   "source": [
    "testgen.classes"
   ]
  },
  {
   "cell_type": "code",
   "execution_count": null,
   "id": "8fca0b60",
   "metadata": {},
   "outputs": [
    {
     "name": "stderr",
     "output_type": "stream",
     "text": [
      "C:\\Users\\ankan\\AppData\\Local\\Temp\\ipykernel_10592\\3400265095.py:1: UserWarning: `Model.predict_generator` is deprecated and will be removed in a future version. Please use `Model.predict`, which supports generators.\n",
      "  yp=model.predict_generator(testgen, len(testgen.classes))\n"
     ]
    }
   ],
   "source": [
    "yp=model.predict_generator(testgen, len(testgen.classes))"
   ]
  },
  {
   "cell_type": "code",
   "execution_count": null,
   "id": "7fb0ec1f",
   "metadata": {},
   "outputs": [
    {
     "data": {
      "text/plain": [
       "(495, 1)"
      ]
     },
     "execution_count": 43,
     "metadata": {},
     "output_type": "execute_result"
    }
   ],
   "source": [
    "yp.shape"
   ]
  },
  {
   "cell_type": "code",
   "execution_count": null,
   "id": "56eb8417",
   "metadata": {},
   "outputs": [
    {
     "data": {
      "text/plain": [
       "495"
      ]
     },
     "execution_count": 52,
     "metadata": {},
     "output_type": "execute_result"
    }
   ],
   "source": [
    "import math\n",
    "len([round(i[0]) for i in yp])"
   ]
  },
  {
   "cell_type": "code",
   "execution_count": null,
   "id": "d7ae2fc0",
   "metadata": {},
   "outputs": [
    {
     "data": {
      "text/plain": [
       "495"
      ]
     },
     "execution_count": 51,
     "metadata": {},
     "output_type": "execute_result"
    }
   ],
   "source": [
    "len(testgen.classes)"
   ]
  },
  {
   "cell_type": "code",
   "execution_count": null,
   "id": "0b8606c7",
   "metadata": {},
   "outputs": [],
   "source": []
  }
 ],
 "metadata": {
  "kernelspec": {
   "display_name": "Python 3 (ipykernel)",
   "language": "python",
   "name": "python3"
  },
  "language_info": {
   "codemirror_mode": {
    "name": "ipython",
    "version": 3
   },
   "file_extension": ".py",
   "mimetype": "text/x-python",
   "name": "python",
   "nbconvert_exporter": "python",
   "pygments_lexer": "ipython3",
   "version": "3.10.7"
  },
  "vscode": {
   "interpreter": {
    "hash": "0303d133bb8cecc701de3931bacc08028fc377926683ffc07aa14b9700330e87"
   }
  }
 },
 "nbformat": 4,
 "nbformat_minor": 5
}
