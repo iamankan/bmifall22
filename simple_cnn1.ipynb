{
 "cells": [
  {
   "cell_type": "code",
   "execution_count": 1,
   "id": "43a952c6",
   "metadata": {},
   "outputs": [],
   "source": [
    "from tensorflow import keras\n",
    "import tensorflow as tf"
   ]
  },
  {
   "cell_type": "code",
   "execution_count": 2,
   "id": "d72345b6",
   "metadata": {},
   "outputs": [],
   "source": [
    "fout = f'models/cnn1'"
   ]
  },
  {
   "cell_type": "code",
   "execution_count": 3,
   "id": "a4e8a5c8",
   "metadata": {},
   "outputs": [],
   "source": [
    "from tensorflow.keras import layers"
   ]
  },
  {
   "cell_type": "code",
   "execution_count": 4,
   "id": "bed15bf8",
   "metadata": {},
   "outputs": [
    {
     "name": "stdout",
     "output_type": "stream",
     "text": [
      "Model: \"sequential\"\n",
      "_________________________________________________________________\n",
      " Layer (type)                Output Shape              Param #   \n",
      "=================================================================\n",
      " conv2d (Conv2D)             (None, 123, 123, 32)      2432      \n",
      "                                                                 \n",
      " conv2d_1 (Conv2D)           (None, 121, 121, 32)      9248      \n",
      "                                                                 \n",
      " max_pooling2d (MaxPooling2D  (None, 40, 40, 32)       0         \n",
      " )                                                               \n",
      "                                                                 \n",
      "=================================================================\n",
      "Total params: 11,680\n",
      "Trainable params: 11,680\n",
      "Non-trainable params: 0\n",
      "_________________________________________________________________\n",
      "Model: \"sequential\"\n",
      "_________________________________________________________________\n",
      " Layer (type)                Output Shape              Param #   \n",
      "=================================================================\n",
      " conv2d (Conv2D)             (None, 123, 123, 32)      2432      \n",
      "                                                                 \n",
      " conv2d_1 (Conv2D)           (None, 121, 121, 32)      9248      \n",
      "                                                                 \n",
      " max_pooling2d (MaxPooling2D  (None, 40, 40, 32)       0         \n",
      " )                                                               \n",
      "                                                                 \n",
      " conv2d_2 (Conv2D)           (None, 38, 38, 32)        9248      \n",
      "                                                                 \n",
      " conv2d_3 (Conv2D)           (None, 36, 36, 32)        9248      \n",
      "                                                                 \n",
      " max_pooling2d_1 (MaxPooling  (None, 12, 12, 32)       0         \n",
      " 2D)                                                             \n",
      "                                                                 \n",
      " conv2d_4 (Conv2D)           (None, 10, 10, 32)        9248      \n",
      "                                                                 \n",
      " conv2d_5 (Conv2D)           (None, 8, 8, 32)          9248      \n",
      "                                                                 \n",
      " max_pooling2d_2 (MaxPooling  (None, 4, 4, 32)         0         \n",
      " 2D)                                                             \n",
      "                                                                 \n",
      "=================================================================\n",
      "Total params: 48,672\n",
      "Trainable params: 48,672\n",
      "Non-trainable params: 0\n",
      "_________________________________________________________________\n"
     ]
    }
   ],
   "source": [
    "model = keras.Sequential()\n",
    "model.add(keras.Input(shape=(250, 250, 3)))\n",
    "model.add(layers.Conv2D(32, 5, strides=2, activation=\"relu\"))\n",
    "model.add(layers.Conv2D(32, 3, activation=\"relu\"))\n",
    "model.add(layers.MaxPooling2D(3))\n",
    "\n",
    "# Can you guess what the current output shape is at this point? Probably not.\n",
    "# Let's just print it:\n",
    "model.summary()\n",
    "\n",
    "# The answer was: (40, 40, 32), so we can keep downsampling...\n",
    "\n",
    "model.add(layers.Conv2D(32, 3, activation=\"relu\"))\n",
    "model.add(layers.Conv2D(32, 3, activation=\"relu\"))\n",
    "model.add(layers.MaxPooling2D(3))\n",
    "model.add(layers.Conv2D(32, 3, activation=\"relu\"))\n",
    "model.add(layers.Conv2D(32, 3, activation=\"relu\"))\n",
    "model.add(layers.MaxPooling2D(2))\n",
    "\n",
    "# And now?\n",
    "model.summary()\n",
    "\n",
    "# Now that we have 4x4 feature maps, time to apply global max pooling.\n",
    "model.add(layers.GlobalMaxPooling2D())\n",
    "\n",
    "# Finally, we add a classification layer.\n",
    "model.add(layers.Dense(1))"
   ]
  },
  {
   "cell_type": "code",
   "execution_count": 5,
   "id": "dac92f3c",
   "metadata": {},
   "outputs": [],
   "source": [
    "fdata = f'../../data/sars-cov2-ct-scan'\n",
    "from pathlib import Path\n",
    "p = Path(fdata)\n",
    "ptrain = p / 'train'\n",
    "ptest = p / 'test'\n",
    "pval = p / 'val'"
   ]
  },
  {
   "cell_type": "code",
   "execution_count": 6,
   "id": "fa0ef21f",
   "metadata": {},
   "outputs": [],
   "source": [
    "BATCH_SIZE = 10\n",
    "\n",
    "w, h = (250, 250)\n",
    "from keras.preprocessing.image import ImageDataGenerator\n",
    "train_generator = ImageDataGenerator(rescale=1. / 255)\n",
    "\n",
    "val_generator = ImageDataGenerator(rescale=1. / 255)\n",
    "\n",
    "test_generator = ImageDataGenerator(rescale=1. / 255)"
   ]
  },
  {
   "cell_type": "code",
   "execution_count": 7,
   "id": "49169522",
   "metadata": {},
   "outputs": [
    {
     "name": "stdout",
     "output_type": "stream",
     "text": [
      "Found 1788 images belonging to 2 classes.\n",
      "Found 198 images belonging to 2 classes.\n",
      "Found 495 images belonging to 2 classes.\n"
     ]
    }
   ],
   "source": [
    "traingen = train_generator.flow_from_directory(ptrain,\n",
    "                                               target_size=(w, h),\n",
    "                                               batch_size=BATCH_SIZE, \n",
    "                                               shuffle=True,\n",
    "                                               seed=42)\n",
    "\n",
    "validgen = val_generator.flow_from_directory(pval,\n",
    "                                               target_size=(w, h),\n",
    "                                               batch_size=BATCH_SIZE,\n",
    "                                               shuffle=True,\n",
    "                                               seed=42)\n",
    "\n",
    "testgen = test_generator.flow_from_directory(ptest,\n",
    "                                             target_size=(w, h),\n",
    "                                             batch_size=1,\n",
    "                                             shuffle=False,\n",
    "                                             seed=42)"
   ]
  },
  {
   "cell_type": "code",
   "execution_count": 8,
   "id": "1d7f0bae",
   "metadata": {},
   "outputs": [
    {
     "name": "stdout",
     "output_type": "stream",
     "text": [
      "Epoch 1/20\n",
      "179/179 [==============================] - 23s 92ms/step - loss: 7.7125 - binary_accuracy: 0.5000 - val_loss: 7.7125 - val_binary_accuracy: 0.5000\n",
      "Epoch 2/20\n",
      "179/179 [==============================] - 7s 39ms/step - loss: 7.7125 - binary_accuracy: 0.5000 - val_loss: 7.7125 - val_binary_accuracy: 0.5000\n",
      "Epoch 3/20\n",
      "179/179 [==============================] - 7s 41ms/step - loss: 7.7125 - binary_accuracy: 0.5000 - val_loss: 7.7125 - val_binary_accuracy: 0.5000\n",
      "Epoch 4/20\n",
      "179/179 [==============================] - 7s 40ms/step - loss: 7.7125 - binary_accuracy: 0.5000 - val_loss: 7.7125 - val_binary_accuracy: 0.5000\n",
      "Epoch 5/20\n",
      "179/179 [==============================] - 8s 43ms/step - loss: 7.7125 - binary_accuracy: 0.5000 - val_loss: 7.7125 - val_binary_accuracy: 0.5000\n",
      "Epoch 6/20\n",
      "179/179 [==============================] - 8s 43ms/step - loss: 7.7125 - binary_accuracy: 0.5000 - val_loss: 7.7125 - val_binary_accuracy: 0.5000\n",
      "Epoch 7/20\n",
      "179/179 [==============================] - 8s 43ms/step - loss: 7.7125 - binary_accuracy: 0.5000 - val_loss: 7.7125 - val_binary_accuracy: 0.5000\n",
      "Epoch 8/20\n",
      "179/179 [==============================] - 8s 43ms/step - loss: 7.7125 - binary_accuracy: 0.5000 - val_loss: 7.7125 - val_binary_accuracy: 0.5000\n",
      "Epoch 9/20\n",
      "179/179 [==============================] - 8s 47ms/step - loss: 7.7125 - binary_accuracy: 0.5000 - val_loss: 7.7125 - val_binary_accuracy: 0.5000\n",
      "Epoch 10/20\n",
      "179/179 [==============================] - 7s 39ms/step - loss: 7.7125 - binary_accuracy: 0.5000 - val_loss: 7.7125 - val_binary_accuracy: 0.5000\n",
      "Epoch 11/20\n",
      "179/179 [==============================] - 7s 40ms/step - loss: 7.7125 - binary_accuracy: 0.5000 - val_loss: 7.7125 - val_binary_accuracy: 0.5000\n",
      "Epoch 12/20\n",
      "179/179 [==============================] - 9s 48ms/step - loss: 7.7125 - binary_accuracy: 0.5000 - val_loss: 7.7125 - val_binary_accuracy: 0.5000\n",
      "Epoch 13/20\n",
      "179/179 [==============================] - 8s 43ms/step - loss: 7.7125 - binary_accuracy: 0.5000 - val_loss: 7.7125 - val_binary_accuracy: 0.5000\n",
      "Epoch 14/20\n",
      "179/179 [==============================] - 7s 40ms/step - loss: 7.7125 - binary_accuracy: 0.5000 - val_loss: 7.7125 - val_binary_accuracy: 0.5000\n",
      "Epoch 15/20\n",
      "179/179 [==============================] - 7s 42ms/step - loss: 7.7125 - binary_accuracy: 0.5000 - val_loss: 7.7125 - val_binary_accuracy: 0.5000\n",
      "Epoch 16/20\n",
      "179/179 [==============================] - 8s 42ms/step - loss: 7.7125 - binary_accuracy: 0.5000 - val_loss: 7.7125 - val_binary_accuracy: 0.5000\n",
      "Epoch 17/20\n",
      "179/179 [==============================] - 8s 43ms/step - loss: 7.7125 - binary_accuracy: 0.5000 - val_loss: 7.7125 - val_binary_accuracy: 0.5000\n",
      "Epoch 18/20\n",
      "179/179 [==============================] - 7s 38ms/step - loss: 7.7125 - binary_accuracy: 0.5000 - val_loss: 7.7125 - val_binary_accuracy: 0.5000\n",
      "Epoch 19/20\n",
      "179/179 [==============================] - 7s 40ms/step - loss: 7.7125 - binary_accuracy: 0.5000 - val_loss: 7.7125 - val_binary_accuracy: 0.5000\n",
      "Epoch 20/20\n",
      "179/179 [==============================] - 7s 39ms/step - loss: 7.7125 - binary_accuracy: 0.5000 - val_loss: 7.7125 - val_binary_accuracy: 0.5000\n"
     ]
    }
   ],
   "source": [
    "foldername = fout\n",
    "save_model = tf.keras.callbacks.ModelCheckpoint(\n",
    "    filepath=foldername+'/tl-cnn1_model_{epoch:02d}.h5')\n",
    "\n",
    "save_weight = tf.keras.callbacks.ModelCheckpoint(\n",
    "    filepath=foldername+'/tl-cnn1_weight_{epoch:02d}.h5',\n",
    "    save_weights_only=True)\n",
    "\n",
    "lr_schedule = keras.optimizers.schedules.ExponentialDecay(\n",
    "    initial_learning_rate=1e-2,\n",
    "    decay_steps=10000,\n",
    "    decay_rate=0.9)\n",
    "\n",
    "model.compile(optimizer=keras.optimizers.Adam(learning_rate=0.01),\n",
    "              loss=keras.losses.BinaryCrossentropy(),\n",
    "              metrics=[keras.metrics.BinaryAccuracy()])\n",
    "history = model.fit(traingen, epochs=20, validation_data= validgen,\n",
    "             callbacks=[save_model, save_weight])"
   ]
  },
  {
   "cell_type": "code",
   "execution_count": null,
   "id": "81026ff2",
   "metadata": {},
   "outputs": [],
   "source": []
  }
 ],
 "metadata": {
  "kernelspec": {
   "display_name": "Python 3.10.7 ('bmifall22venv': venv)",
   "language": "python",
   "name": "python3"
  },
  "language_info": {
   "codemirror_mode": {
    "name": "ipython",
    "version": 3
   },
   "file_extension": ".py",
   "mimetype": "text/x-python",
   "name": "python",
   "nbconvert_exporter": "python",
   "pygments_lexer": "ipython3",
   "version": "3.10.7"
  },
  "vscode": {
   "interpreter": {
    "hash": "0303d133bb8cecc701de3931bacc08028fc377926683ffc07aa14b9700330e87"
   }
  }
 },
 "nbformat": 4,
 "nbformat_minor": 5
}
